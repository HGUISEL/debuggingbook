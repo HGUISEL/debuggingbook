{
 "cells": [
  {
   "cell_type": "markdown",
   "metadata": {
    "button": false,
    "new_sheet": false,
    "run_control": {
     "read_only": false
    }
   },
   "source": [
    "# Chapters\n",
    "\n",
    "This is a short plan for the chapters in the book."
   ]
  },
  {
   "cell_type": "markdown",
   "metadata": {},
   "source": [
    "## Part 1: Introduction"
   ]
  },
  {
   "cell_type": "markdown",
   "metadata": {},
   "source": [
    "### The Debugging Process\n",
    "\n",
    "Introduce debugging concepts. A first bug. The Scientific Method. Rubberducking."
   ]
  },
  {
   "cell_type": "markdown",
   "metadata": {},
   "source": [
    "## Part 2: Observing and Checking"
   ]
  },
  {
   "cell_type": "markdown",
   "metadata": {},
   "source": [
    "### Observing Executions\n",
    "\n",
    "Tracking executions in Python. Build your own debugger. (with expression-based breakpoints). \n",
    "\n",
    "* https://microsoft.github.io/debug-adapter-protocol/ ",
    "We did this fo Python and C (check with Abhilash).\n",
    "* debugging bash: https://twitter.com/b0rk/status/1312413117436104705 – single line!"
   ]
  },
  {
   "cell_type": "markdown",
   "metadata": {},
   "source": [
    "### Asserting Expectations\n",
    "\n",
    "Preconditions, postconditions, assertions. Data invariants. System invariants. Mining Invariants."
   ]
  },
  {
   "cell_type": "markdown",
   "metadata": {},
   "source": [
    "### Correlating Failures\n",
    "\n",
    "Statistical debugging. Non-functional attributes (profiling)."
   ]
  },
  {
   "cell_type": "markdown",
   "metadata": {},
   "source": [
    "## Part 3: Causes and Circumstances"
   ]
  },
  {
   "cell_type": "markdown",
   "metadata": {},
   "source": [
    "### Simplifying Failures\n",
    "\n",
    "Delta Debugging. Causes and Causality."
   ]
  },
  {
   "cell_type": "markdown",
   "metadata": {},
   "source": [
    "### Abstracting Failures\n",
    "\n",
    "Grammars and Grammar Testing. Perses. DDSet. Alhazen."
   ]
  },
  {
   "cell_type": "markdown",
   "metadata": {},
   "source": [
    "### Tracking Origins\n",
    "\n",
    "Dependencies. States. Following Dependencies. Slicing."
   ]
  },
  {
   "cell_type": "markdown",
   "metadata": {},
   "source": [
    "## Part 4: Reproduction and Repair"
   ]
  },
  {
   "cell_type": "markdown",
   "metadata": {},
   "source": [
    "### Reproducing Failures\n",
    "\n",
    "Recording and reproducing (user/system/function) interaction."
   ]
  },
  {
   "cell_type": "markdown",
   "metadata": {},
   "source": [
    "### Repairing Failures\n",
    "\n",
    "Automatic repairs. Also see https://github.com/squaresLab/Darjeeling"
   ]
  },
  {
   "cell_type": "markdown",
   "metadata": {},
   "source": [
    "### Learning From Mistakes\n",
    "\n",
    "Mining bug and version repositories. Bug tracking."
   ]
  },
  {
   "cell_type": "markdown",
   "metadata": {},
   "source": [
    "## Projects\n",
    "\n",
    "1. Build an interactive debugger (with cool features – must-haves and may-haves) – maybe with a GUI?\n",
    "2. PyReduce – Reducing Python programs (like CReduce) – use AST\n",
    "3. (Some automatic repair thingy, including fault localization – maybe combine repair + testing?)"
   ]
  }
 ],
 "metadata": {
  "ipub": {
   "bibliography": "fuzzingbook.bib",
   "toc": true
  },
  "kernelspec": {
   "display_name": "Python 3",
   "language": "python",
   "name": "python3"
  },
  "language_info": {
   "codemirror_mode": {
    "name": "ipython",
    "version": 3
   },
   "file_extension": ".py",
   "mimetype": "text/x-python",
   "name": "python",
   "nbconvert_exporter": "python",
   "pygments_lexer": "ipython3",
   "version": "3.6.10"
  },
  "toc": {
   "base_numbering": 1,
   "nav_menu": {},
   "number_sections": true,
   "sideBar": true,
   "skip_h1_title": true,
   "title_cell": "",
   "title_sidebar": "Contents",
   "toc_cell": false,
   "toc_position": {},
   "toc_section_display": true,
   "toc_window_display": true
  }
 },
 "nbformat": 4,
 "nbformat_minor": 4
}
